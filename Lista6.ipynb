{
 "cells": [
  {
   "cell_type": "code",
   "execution_count": 3,
   "metadata": {},
   "outputs": [],
   "source": [
    "import pandas as pd\n",
    "pd.read_csv('VoosAzul.csv').to_json('VoosAzul.json')"
   ]
  },
  {
   "cell_type": "code",
   "execution_count": 4,
   "metadata": {},
   "outputs": [
    {
     "name": "stdout",
     "output_type": "stream",
     "text": [
      "Adalberto x Viracopos: 683.3258154870508 Km\n"
     ]
    }
   ],
   "source": [
    "from math import radians, cos, sin, asin, sqrt\n",
    "\n",
    "# Formula de Haversine\n",
    "def haversine( a, b ):\n",
    "    # Raio da Terra em Km\n",
    "    r = 6371\n",
    "\n",
    "    # Converte coordenadas de graus para radianos\n",
    "    lon1, lat1, lon2, lat2 = map(radians, [ a['longitude'], a['latitude'], b['longitude'], b['latitude'] ] )\n",
    "\n",
    "    # Formula de Haversine\n",
    "    dlon = lon2 - lon1\n",
    "    dlat = lat2 - lat1\n",
    "    hav = sin(dlat/2)**2 + cos(lat1) * cos(lat2) * sin(dlon/2)**2\n",
    "    d = 2 * r * asin( sqrt(hav) )\n",
    "\n",
    "    return d\n",
    "\n",
    "\n",
    "AdalbertoMendesDaSilva = {'latitude': -25.001815, 'longitude': -53.501918 }\n",
    "Viracopos = {'latitude': -23.008205, 'longitude': -47.1375685}\n",
    "\n",
    "print(\"Adalberto x Viracopos: \" + str( haversine( AdalbertoMendesDaSilva, Viracopos) ) + \" Km\")"
   ]
  },
  {
   "cell_type": "code",
   "execution_count": 45,
   "metadata": {},
   "outputs": [
    {
     "data": {
      "text/plain": [
       "{'s': {'a': 2, 'b': 3}}"
      ]
     },
     "execution_count": 45,
     "metadata": {},
     "output_type": "execute_result"
    }
   ],
   "source": [
    "graph = {}\n",
    "graph['s'] = {}\n",
    "graph['s'] = {'a': 2}\n",
    "\n",
    "# templist = graph['s']\n",
    "# templist.extend({'b': 2})\n",
    "# graph['s'] = templist\n",
    "\n",
    "graph['s']['b'] = 3\n",
    "\n",
    "graph"
   ]
  },
  {
   "cell_type": "code",
   "execution_count": 79,
   "metadata": {
    "scrolled": true
   },
   "outputs": [
    {
     "ename": "NameError",
     "evalue": "name 'haversine' is not defined",
     "output_type": "error",
     "traceback": [
      "\u001b[0;31m--------------------------\u001b[0m",
      "\u001b[0;31mNameError\u001b[0mTraceback (most recent call last)",
      "\u001b[0;32m<ipython-input-79-1b95ce96f8e4>\u001b[0m in \u001b[0;36m<module>\u001b[0;34m\u001b[0m\n\u001b[1;32m     16\u001b[0m \u001b[0;34m\u001b[0m\u001b[0m\n\u001b[1;32m     17\u001b[0m \u001b[0;31m#     listaDeAdjacencia[aeroporto].append([data['Aeroporto.Destino'][key], haversine(cordOrigem, cordDestino)])\u001b[0m\u001b[0;34m\u001b[0m\u001b[0;34m\u001b[0m\u001b[0;34m\u001b[0m\u001b[0m\n\u001b[0;32m---> 18\u001b[0;31m     \u001b[0mlistaDeAdjacencia\u001b[0m\u001b[0;34m[\u001b[0m\u001b[0maeroporto\u001b[0m\u001b[0;34m]\u001b[0m\u001b[0;34m[\u001b[0m\u001b[0mdata\u001b[0m\u001b[0;34m[\u001b[0m\u001b[0;34m'Aeroporto.Destino'\u001b[0m\u001b[0;34m]\u001b[0m\u001b[0;34m[\u001b[0m\u001b[0mkey\u001b[0m\u001b[0;34m]\u001b[0m\u001b[0;34m]\u001b[0m \u001b[0;34m=\u001b[0m \u001b[0mhaversine\u001b[0m\u001b[0;34m(\u001b[0m\u001b[0mcordOrigem\u001b[0m\u001b[0;34m,\u001b[0m \u001b[0mcordDestino\u001b[0m\u001b[0;34m)\u001b[0m\u001b[0;34m\u001b[0m\u001b[0;34m\u001b[0m\u001b[0m\n\u001b[0m\u001b[1;32m     19\u001b[0m \u001b[0;34m\u001b[0m\u001b[0m\n\u001b[1;32m     20\u001b[0m \u001b[0;34m\u001b[0m\u001b[0m\n",
      "\u001b[0;31mNameError\u001b[0m: name 'haversine' is not defined"
     ]
    }
   ],
   "source": [
    "import json\n",
    "\n",
    "with open('VoosAzul.json') as json_file:  \n",
    "    data = json.load(json_file)\n",
    "    \n",
    "# print(data)\n",
    "listaDeAdjacencia = {}\n",
    "\n",
    "# Montando lista de adjacência\n",
    "for (key, aeroporto) in data['Aeroporto.Origem'].items():\n",
    "    if not listaDeAdjacencia.get(aeroporto):\n",
    "        listaDeAdjacencia[aeroporto] = {}\n",
    "    \n",
    "    cordOrigem = {'latitude': data['LatOrig'][key], 'longitude': data['LongOrig'][key]}\n",
    "    cordDestino = {'latitude': data['LatDest'][key], 'longitude': data['LongDest'][key]}\n",
    "    \n",
    "#     listaDeAdjacencia[aeroporto].append([data['Aeroporto.Destino'][key], haversine(cordOrigem, cordDestino)])\n",
    "    listaDeAdjacencia[aeroporto][data['Aeroporto.Destino'][key]] = haversine(cordOrigem, cordDestino)\n",
    "    \n",
    "        \n",
    "# Salvando lista de adjacência\n",
    "with open('listaAdjacência.json', 'w') as json_file:  \n",
    "    json.dump(listaDeAdjacencia, json_file)\n",
    "    \n",
    "print(listaDeAdjacencia)           "
   ]
  },
  {
   "cell_type": "code",
   "execution_count": 86,
   "metadata": {},
   "outputs": [],
   "source": [
    "def BFS(grafo, aeroporto_origem, aeroporto_destino):\n",
    "    fila = []\n",
    "    visitados = []\n",
    "    largura = {}\n",
    "    ctdLargura = 1\n",
    "    nivel = {}\n",
    "    pai = {}\n",
    "    \n",
    "    fila.append(aeroporto_origem)\n",
    "    largura[aeroporto_origem] = ctdLargura\n",
    "    nivel[aeroporto_origem] = 1\n",
    "    pai[aeroporto_origem] = None\n",
    "    \n",
    "    while len(fila):\n",
    "        vertice = fila.pop(0) \n",
    "        \n",
    "        for vizinho in grafo.get(vertice):\n",
    "            if not largura.get(vizinho):\n",
    "                fila.append(vizinho)\n",
    "                ctdLargura += 1\n",
    "                largura[vizinho] = ctdLargura\n",
    "                pai[vizinho] = vertice\n",
    "                nivel[vizinho] = nivel[vertice] + 1\n",
    "                if vizinho == aeroporto_destino:\n",
    "                    return largura, nivel, pai\n",
    "    return 0\n",
    "\n",
    "def imprime_menor_caminho(pai, aeroporto_origem, aeroporto_destino):\n",
    "    menor_caminho = []\n",
    "    while aeroporto_destino != aeroporto_origem:\n",
    "        menor_caminho.insert(0, aeroporto_destino)\n",
    "        aeroporto_destino = pai[aeroporto_destino]\n",
    "        \n",
    "    menor_caminho.insert(0, aeroporto_origem)\n",
    "    return menor_caminho\n",
    "    "
   ]
  },
  {
   "cell_type": "code",
   "execution_count": 87,
   "metadata": {},
   "outputs": [
    {
     "name": "stdout",
     "output_type": "stream",
     "text": [
      "['Hercilio Luz', 'Cataratas', 'Tancredo Neves', 'Carajas']\n"
     ]
    }
   ],
   "source": [
    "largura, nivel, pai = BFS(listaDeAdjacencia, \"Hercilio Luz\", \"Carajas\")\n",
    "print(imprime_menor_caminho(pai, \"Hercilio Luz\", \"Carajas\"))"
   ]
  },
  {
   "cell_type": "code",
   "execution_count": 58,
   "metadata": {},
   "outputs": [],
   "source": [
    "def dijkstra(graph,src,dest,visited=[],distances={},predecessors={}):\n",
    "    \"\"\" calculates a shortest path tree routed in src\n",
    "    \"\"\"    \n",
    "    # a few sanity checks\n",
    "    if src not in graph:\n",
    "        raise TypeError('The root of the shortest path tree cannot be found')\n",
    "    if dest not in graph:\n",
    "        raise TypeError('The target of the shortest path cannot be found')    \n",
    "    # ending condition\n",
    "    if src == dest:\n",
    "        # We build the shortest path and display it\n",
    "        path=[]\n",
    "        pred=dest\n",
    "        while pred != None:\n",
    "            path.append(pred)\n",
    "            pred=predecessors.get(pred,None)\n",
    "        # reverses the array, to display the path nicely\n",
    "        readable=path[0]\n",
    "        for index in range(1,len(path)): readable = path[index]+'--->'+readable\n",
    "        #prints it \n",
    "        print('shortest path - array: '+str(path))\n",
    "        print(\"path: \"+readable+\",   cost=\"+str(distances[dest]))     \n",
    "    else :     \n",
    "        # if it is the initial  run, initializes the cost\n",
    "        if not visited: \n",
    "            distances[src]=0\n",
    "        # visit the neighbors\n",
    "        for neighbor in graph[src] :\n",
    "            if neighbor not in visited:\n",
    "                new_distance = distances[src] + graph[src][neighbor]\n",
    "                if new_distance < distances.get(neighbor,float('inf')):\n",
    "                    distances[neighbor] = new_distance\n",
    "                    predecessors[neighbor] = src\n",
    "        # mark as visited\n",
    "        visited.append(src)\n",
    "        # now that all neighbors have been visited: recurse                         \n",
    "        # select the non visited node with lowest distance 'x'\n",
    "        # run Dijskstra with src='x'\n",
    "        unvisited={}\n",
    "        for k in graph:\n",
    "            if k not in visited:\n",
    "                unvisited[k] = distances.get(k,float('inf'))        \n",
    "        x=min(unvisited, key=unvisited.get)\n",
    "        dijkstra(graph,x,dest,visited,distances,predecessors)\n",
    "        "
   ]
  },
  {
   "cell_type": "code",
   "execution_count": 59,
   "metadata": {},
   "outputs": [
    {
     "name": "stdout",
     "output_type": "stream",
     "text": [
      "shortest path - array: ['Carajas', 'Maraba', 'Presidente Juscelino Kubitschek', 'Viracopos', 'Hercilio Luz']\n",
      "path: Hercilio Luz--->Viracopos--->Presidente Juscelino Kubitschek--->Maraba--->Carajas,   cost=2636.5130752005452\n"
     ]
    }
   ],
   "source": [
    "dijkstra(listaDeAdjacencia,\"Hercilio Luz\", \"Carajas\")"
   ]
  },
  {
   "cell_type": "code",
   "execution_count": 83,
   "metadata": {},
   "outputs": [
    {
     "name": "stdout",
     "output_type": "stream",
     "text": [
      "[[0, 1, 2], [0, 2, 3], [1, 3, 3], [3, 4, 2], [3, 5, 3]]\n"
     ]
    }
   ],
   "source": [
    "# create adjacency matrix for use in prims algorithm\n",
    "# note: we could improve the running time of prims algorithm by \n",
    "# implementing a priority queue data structure instead of a matrix\n",
    "def createAdjMatrix(V, G):\n",
    "  \n",
    "  adjMatrix = []\n",
    "  \n",
    "  # create N x N matrix filled with 0 edge weights between all vertices\n",
    "  for i in range(0, V):\n",
    "    adjMatrix.append([])\n",
    "    for j in range(0, V):\n",
    "      adjMatrix[i].append(0)\n",
    "      \n",
    "  # populate adjacency matrix with correct edge weights\n",
    "  for i in range(0, len(G)):\n",
    "    adjMatrix[G[i][0]][G[i][1]] = G[i][2]\n",
    "    adjMatrix[G[i][1]][G[i][0]] = G[i][2]\n",
    "    \n",
    "  return adjMatrix\n",
    "\n",
    "def prims(V, G):\n",
    "  \n",
    "  # create adj matrix from graph\n",
    "  adjMatrix = createAdjMatrix(V, G)\n",
    "  \n",
    "  # arbitrarily choose initial vertex from graph\n",
    "  vertex = 0\n",
    "  \n",
    "  # initialize empty edges array and empty MST\n",
    "  MST = []\n",
    "  edges = []\n",
    "  visited = []\n",
    "  minEdge = [None,None,float('inf')]\n",
    "  \n",
    "  # run prims algorithm until we create an MST\n",
    "  # that contains every vertex from the graph\n",
    "  while len(MST) != V-1:\n",
    "    \n",
    "    # mark this vertex as visited\n",
    "    visited.append(vertex)\n",
    "    \n",
    "    # add each edge to list of potential edges\n",
    "    for r in range(0, V):\n",
    "      if adjMatrix[vertex][r] != 0:\n",
    "        edges.append([vertex,r,adjMatrix[vertex][r]])\n",
    "        \n",
    "    # find edge with the smallest weight to a vertex\n",
    "    # that has not yet been visited\n",
    "    for e in range(0, len(edges)):\n",
    "      if edges[e][2] < minEdge[2] and edges[e][1] not in visited:\n",
    "        minEdge = edges[e]\n",
    "        \n",
    "    # remove min weight edge from list of edges\n",
    "    edges.remove(minEdge)\n",
    "\n",
    "    # push min edge to MST\n",
    "    MST.append(minEdge)\n",
    "      \n",
    "    # start at new vertex and reset min edge\n",
    "    vertex = minEdge[1]\n",
    "    minEdge = [None,None,float('inf')]\n",
    "    \n",
    "  return MST\n",
    "  \n",
    "# graph vertices are actually represented as numbers\n",
    "# like so: 0, 1, 2, ... V-1\n",
    "a, b, c, d, e, f = 0, 1, 2, 3, 4, 5\n",
    "\n",
    "# graph edges with weights\n",
    "# diagram of graph is shown above\n",
    "graph = [\n",
    "  [a,b,2],\n",
    "  [a,c,3],\n",
    "  [b,d,3],\n",
    "  [b,c,5],\n",
    "  [b,e,4],\n",
    "  [c,e,4],\n",
    "  [d,e,2],\n",
    "  [d,f,3],\n",
    "  [e,f,5]\n",
    "]\n",
    "\n",
    "# pass the # of vertices and the graph to run prims algorithm \n",
    "print (prims(6, graph))"
   ]
  }
 ],
 "metadata": {
  "kernelspec": {
   "display_name": "Python 3",
   "language": "python",
   "name": "python3"
  },
  "language_info": {
   "codemirror_mode": {
    "name": "ipython",
    "version": 3
   },
   "file_extension": ".py",
   "mimetype": "text/x-python",
   "name": "python",
   "nbconvert_exporter": "python",
   "pygments_lexer": "ipython3",
   "version": "3.6.8"
  }
 },
 "nbformat": 4,
 "nbformat_minor": 2
}
